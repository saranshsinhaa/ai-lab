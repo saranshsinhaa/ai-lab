{
  "nbformat": 4,
  "nbformat_minor": 0,
  "metadata": {
    "colab": {
      "provenance": [],
      "authorship_tag": "ABX9TyOUFB6wFYewAQpkunpYXWo6",
      "include_colab_link": true
    },
    "kernelspec": {
      "name": "python3",
      "display_name": "Python 3"
    },
    "language_info": {
      "name": "python"
    }
  },
  "cells": [
    {
      "cell_type": "markdown",
      "metadata": {
        "id": "view-in-github",
        "colab_type": "text"
      },
      "source": [
        "<a href=\"https://colab.research.google.com/github/saranshsinhaa/ai-lab/blob/main/exp3.ipynb\" target=\"_parent\"><img src=\"https://colab.research.google.com/assets/colab-badge.svg\" alt=\"Open In Colab\"/></a>"
      ]
    },
    {
      "cell_type": "code",
      "execution_count": 4,
      "metadata": {
        "colab": {
          "base_uri": "https://localhost:8080/"
        },
        "id": "Bwo8H5YiPFwq",
        "outputId": "049219b3-df91-496c-f395-93f8b3716a20"
      },
      "outputs": [
        {
          "output_type": "stream",
          "name": "stdout",
          "text": [
            "Solution found:\n",
            "Q.......\n",
            "....Q...\n",
            ".......Q\n",
            ".....Q..\n",
            "..Q.....\n",
            "......Q.\n",
            ".Q......\n",
            "...Q....\n"
          ]
        }
      ],
      "source": [
        "def is_safe(board, row, col):\n",
        "    for i in range(row):\n",
        "        if board[i] == col or abs(row - i) == abs(col - board[i]):\n",
        "            return False\n",
        "    return True\n",
        "\n",
        "def solve_n_queens(n, row=0, board=[]):\n",
        "    if row == n:\n",
        "        return board[:]  # Return the board configuration when a solution is found\n",
        "    for col in range(n):\n",
        "        if is_safe(board, row, col):\n",
        "            board.append(col)\n",
        "            solution = solve_n_queens(n, row + 1, board)\n",
        "            if solution:  # Return the first solution found\n",
        "                return solution\n",
        "            board.pop()\n",
        "    return None  # Return None if no solution found\n",
        "\n",
        "# Example usage:\n",
        "n = 8  # Change this to solve for different board sizes\n",
        "solution = solve_n_queens(n)\n",
        "if solution:\n",
        "    print(\"Solution found:\")\n",
        "    for row in range(n):\n",
        "        print('.' * solution[row] + 'Q' + '.' * (n - solution[row] - 1))\n",
        "else:\n",
        "    print(\"No solution found.\")\n"
      ]
    }
  ]
}