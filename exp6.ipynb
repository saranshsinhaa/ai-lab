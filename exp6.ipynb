{
  "nbformat": 4,
  "nbformat_minor": 0,
  "metadata": {
    "colab": {
      "provenance": [],
      "authorship_tag": "ABX9TyM0nlZQIiTFLhfugPi/hDtX",
      "include_colab_link": true
    },
    "kernelspec": {
      "name": "python3",
      "display_name": "Python 3"
    },
    "language_info": {
      "name": "python"
    }
  },
  "cells": [
    {
      "cell_type": "markdown",
      "metadata": {
        "id": "view-in-github",
        "colab_type": "text"
      },
      "source": [
        "<a href=\"https://colab.research.google.com/github/saranshsinhaa/ai-lab/blob/main/exp6.ipynb\" target=\"_parent\"><img src=\"https://colab.research.google.com/assets/colab-badge.svg\" alt=\"Open In Colab\"/></a>"
      ]
    },
    {
      "cell_type": "code",
      "execution_count": 1,
      "metadata": {
        "colab": {
          "base_uri": "https://localhost:8080/"
        },
        "id": "tWr0SfrLUW9i",
        "outputId": "60f42873-4250-49a7-f7fc-d6fd77198a4b"
      },
      "outputs": [
        {
          "output_type": "stream",
          "name": "stdout",
          "text": [
            "Path found: ['A', 'B', 'E', 'G']\n"
          ]
        },
        {
          "output_type": "execute_result",
          "data": {
            "text/plain": [
              "['A', 'B', 'E', 'G']"
            ]
          },
          "metadata": {},
          "execution_count": 1
        }
      ],
      "source": [
        "import heapq\n",
        "\n",
        "def aStarAlgo(start_node, stop_node):\n",
        "    open_set = []\n",
        "    closed_set = set()\n",
        "    g = {start_node: 0}  # Cost from start to node\n",
        "    parents = {start_node: start_node}\n",
        "    heapq.heappush(open_set, (heuristic(start_node), start_node))\n",
        "\n",
        "    while open_set:\n",
        "        _, n = heapq.heappop(open_set)\n",
        "\n",
        "        if n == stop_node or Graph_nodes[n] is None:\n",
        "            pass\n",
        "        else:\n",
        "            for (m, weight) in get_neighbors(n):\n",
        "                if m not in closed_set:\n",
        "                    new_cost = g[n] + weight #f(n)\n",
        "                    if m not in g or new_cost < g[m]:\n",
        "                        g[m] = new_cost\n",
        "                        parents[m] = n\n",
        "                        heapq.heappush(open_set, (new_cost + heuristic(m), m))\n",
        "                        if m in closed_set:\n",
        "                            closed_set.remove(m)\n",
        "\n",
        "        if n == stop_node:\n",
        "            path = []\n",
        "            while parents[n] != n:\n",
        "                path.append(n)\n",
        "                n = parents[n]\n",
        "            path.append(start_node)\n",
        "            path.reverse()\n",
        "            print('Path found:', path)\n",
        "            return path\n",
        "\n",
        "        closed_set.add(n)\n",
        "\n",
        "    print('Path does not exist!')\n",
        "    return None\n",
        "\n",
        "def get_neighbors(v):\n",
        "    return Graph_nodes.get(v, [])\n",
        "\n",
        "def heuristic(n):\n",
        "    H_dist = {'A': 11, 'B': 6, 'C': 99, 'D': 1, 'E': 7, 'G': 0}\n",
        "    return H_dist.get(n, float('inf'))\n",
        "\n",
        "Graph_nodes = {\n",
        "    'A': [('B', 5), ('C', 7)],\n",
        "    'B': [('D', 9),('E', 8)],\n",
        "    'C': [('F', 6),('G', 10)],\n",
        "    'E': [('G', 6)],\n",
        "    'D': [('G', 7)],\n",
        "    'F': [('G', 5)],\n",
        "}\n",
        "\n",
        "aStarAlgo('A', 'G')"
      ]
    }
  ]
}