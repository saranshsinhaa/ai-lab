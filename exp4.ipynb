{
  "nbformat": 4,
  "nbformat_minor": 0,
  "metadata": {
    "colab": {
      "provenance": [],
      "authorship_tag": "ABX9TyNyHAO0bIrFZvo7A/c5xKmm",
      "include_colab_link": true
    },
    "kernelspec": {
      "name": "python3",
      "display_name": "Python 3"
    },
    "language_info": {
      "name": "python"
    }
  },
  "cells": [
    {
      "cell_type": "markdown",
      "metadata": {
        "id": "view-in-github",
        "colab_type": "text"
      },
      "source": [
        "<a href=\"https://colab.research.google.com/github/saranshsinhaa/ai-lab/blob/main/exp4.ipynb\" target=\"_parent\"><img src=\"https://colab.research.google.com/assets/colab-badge.svg\" alt=\"Open In Colab\"/></a>"
      ]
    },
    {
      "cell_type": "code",
      "execution_count": 1,
      "metadata": {
        "colab": {
          "base_uri": "https://localhost:8080/"
        },
        "id": "U119kkatby8n",
        "outputId": "5153f588-c062-4853-f5bd-c65209c7293a"
      },
      "outputs": [
        {
          "output_type": "stream",
          "name": "stdout",
          "text": [
            "Depth-First Traversal (starting from 'A'):\n",
            "A B D E C F \n",
            "Breadth-First Traversal (starting from 'A'):\n",
            "A B C D E F "
          ]
        }
      ],
      "source": [
        "from collections import deque\n",
        "\n",
        "class Graph:\n",
        "    def __init__(self):\n",
        "        self.graph = {}\n",
        "\n",
        "    def add_edge(self, u, v):\n",
        "        if u not in self.graph:\n",
        "            self.graph[u] = []\n",
        "        self.graph[u].append(v)\n",
        "\n",
        "    def dfs(self, start):\n",
        "        visited = set()\n",
        "        self._dfs_helper(start, visited)\n",
        "\n",
        "    def _dfs_helper(self, node, visited):\n",
        "        visited.add(node)\n",
        "        print(node, end=\" \")\n",
        "\n",
        "        if node in self.graph:\n",
        "            for neighbor in self.graph[node]:\n",
        "                if neighbor not in visited:\n",
        "                    self._dfs_helper(neighbor, visited)\n",
        "\n",
        "    def bfs(self, start):\n",
        "        visited = set()\n",
        "        queue = deque([start])\n",
        "\n",
        "        while queue:\n",
        "            node = queue.popleft()\n",
        "            visited.add(node)\n",
        "            print(node, end=\" \")\n",
        "\n",
        "            if node in self.graph:\n",
        "                for neighbor in self.graph[node]:\n",
        "                    if neighbor not in visited:\n",
        "                        queue.append(neighbor)\n",
        "\n",
        "# Example usage:\n",
        "g = Graph()\n",
        "g.add_edge('A', 'B')\n",
        "g.add_edge('A', 'C')\n",
        "g.add_edge('B', 'D')\n",
        "g.add_edge('B', 'E')\n",
        "g.add_edge('C', 'F')\n",
        "\n",
        "print(\"Depth-First Traversal (starting from 'A'):\")\n",
        "g.dfs('A')\n",
        "\n",
        "print(\"\\nBreadth-First Traversal (starting from 'A'):\")\n",
        "g.bfs('A')\n"
      ]
    }
  ]
}