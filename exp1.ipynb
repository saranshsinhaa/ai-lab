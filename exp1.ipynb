{
  "nbformat": 4,
  "nbformat_minor": 0,
  "metadata": {
    "colab": {
      "provenance": [],
      "authorship_tag": "ABX9TyMk5bsxMiTtWq8pFVY/vAcu",
      "include_colab_link": true
    },
    "kernelspec": {
      "name": "python3",
      "display_name": "Python 3"
    },
    "language_info": {
      "name": "python"
    }
  },
  "cells": [
    {
      "cell_type": "markdown",
      "metadata": {
        "id": "view-in-github",
        "colab_type": "text"
      },
      "source": [
        "<a href=\"https://colab.research.google.com/github/saranshsinhaa/ai-lab/blob/main/exp1.ipynb\" target=\"_parent\"><img src=\"https://colab.research.google.com/assets/colab-badge.svg\" alt=\"Open In Colab\"/></a>"
      ]
    },
    {
      "cell_type": "code",
      "execution_count": null,
      "metadata": {
        "colab": {
          "base_uri": "https://localhost:8080/"
        },
        "id": "cqa_iJrtr1pe",
        "outputId": "d9220611-94c3-4c60-f874-11f5e21f354d"
      },
      "outputs": [
        {
          "output_type": "stream",
          "name": "stdout",
          "text": [
            "Enter the color of the fruit (red/yellow/orange/green/purple): purple\n",
            "Enter the size of the fruit (small/large): large\n",
            "\n",
            "Model Prediction: Watermelon\n",
            "\n",
            "Do you want to try again? (yes/no): yes\n",
            "Enter the color of the fruit (red/yellow/orange/green/purple): purple\n",
            "Enter the size of the fruit (small/large): small\n",
            "\n",
            "Model Prediction: Grape\n"
          ]
        }
      ],
      "source": [
        "# Import necessary libraries\n",
        "from sklearn.tree import DecisionTreeClassifier\n",
        "from sklearn.preprocessing import OneHotEncoder\n",
        "from sklearn.compose import ColumnTransformer\n",
        "from sklearn.pipeline import Pipeline\n",
        "\n",
        "# Step 1: Generate dataset\n",
        "data = [\n",
        "    {'color': 'red', 'size': 'small', 'label': 'apple'},\n",
        "    {'color': 'yellow', 'size': 'small', 'label': 'banana'},\n",
        "    {'color': 'red', 'size': 'large', 'label': 'apple'},\n",
        "    {'color': 'yellow', 'size': 'large', 'label': 'banana'},\n",
        "    {'color': 'orange', 'size': 'small', 'label': 'orange'},\n",
        "    {'color': 'green', 'size': 'large', 'label': 'watermelon'},\n",
        "    {'color': 'purple', 'size': 'small', 'label': 'grape'},\n",
        "    # Add more examples as needed\n",
        "]\n",
        "\n",
        "# Step 2: Split the dataset into training and testing sets\n",
        "features = ['color', 'size']\n",
        "labels = ['apple', 'banana', 'orange', 'watermelon', 'grape']\n",
        "\n",
        "# Assuming you have a larger dataset, you can use it for training and testing\n",
        "# X_train, X_test, y_train, y_test = train_test_split(X, y, test_size=0.2, random_state=42)\n",
        "\n",
        "# Step 3: Define a preprocessing pipeline\n",
        "preprocessor = ColumnTransformer(\n",
        "    transformers=[\n",
        "        ('onehot', OneHotEncoder(), [0, 1])  # One-hot encode the first and second columns (color and size)\n",
        "    ],\n",
        "    remainder='passthrough'\n",
        ")\n",
        "\n",
        "# Create a pipeline with preprocessing and the decision tree classifier\n",
        "model = Pipeline(steps=[\n",
        "    ('preprocessor', preprocessor),\n",
        "    ('classifier', DecisionTreeClassifier())\n",
        "])\n",
        "\n",
        "# Step 4: Train the model (using the entire dataset for simplicity)\n",
        "X = [[example[feature] for feature in features] for example in data]\n",
        "y = [example['label'] for example in data]\n",
        "model.fit(X, y)\n",
        "\n",
        "# Step 5: Allow user interaction\n",
        "while True:\n",
        "    user_color = input(\"Enter the color of the fruit (red/yellow/orange/green/purple): \").lower()\n",
        "    user_size = input(\"Enter the size of the fruit (small/large): \").lower()\n",
        "\n",
        "    # Make a prediction based on user input\n",
        "    user_input = [[user_color, user_size]]\n",
        "    user_prediction = model.predict(user_input)[0]\n",
        "\n",
        "    print(f'\\nModel Prediction: {user_prediction.capitalize()}')\n",
        "\n",
        "    try_again = input(\"\\nDo you want to try again? (yes/no): \").lower()\n",
        "    if try_again != 'yes':\n",
        "        break\n"
      ]
    },
    {
      "cell_type": "code",
      "source": [],
      "metadata": {
        "id": "2qy2L54FtHfR"
      },
      "execution_count": null,
      "outputs": []
    }
  ]
}