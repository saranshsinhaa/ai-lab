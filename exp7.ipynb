{
  "nbformat": 4,
  "nbformat_minor": 0,
  "metadata": {
    "colab": {
      "provenance": [],
      "authorship_tag": "ABX9TyMPgJHpPoItz9M3MCxJPx3B",
      "include_colab_link": true
    },
    "kernelspec": {
      "name": "python3",
      "display_name": "Python 3"
    },
    "language_info": {
      "name": "python"
    }
  },
  "cells": [
    {
      "cell_type": "markdown",
      "metadata": {
        "id": "view-in-github",
        "colab_type": "text"
      },
      "source": [
        "<a href=\"https://colab.research.google.com/github/saranshsinhaa/ai-lab/blob/main/exp7.ipynb\" target=\"_parent\"><img src=\"https://colab.research.google.com/assets/colab-badge.svg\" alt=\"Open In Colab\"/></a>"
      ]
    },
    {
      "cell_type": "code",
      "execution_count": null,
      "metadata": {
        "id": "LC-IrmipZtZz"
      },
      "outputs": [],
      "source": [
        "class Unifier:\n",
        "    def unify(self, t1, t2):\n",
        "        if t1 == t2:\n",
        "            return {}\n",
        "\n",
        "        if isinstance(t1, str) and t1.islower():\n",
        "            return {t1: t2}\n",
        "\n",
        "        if isinstance(t2, str) and t2.islower():\n",
        "            return {t2: t1}\n",
        "\n",
        "        if isinstance(t1, list) and isinstance(t2, list):\n",
        "            if len(t1) != len(t2):\n",
        "                return False\n",
        "            substitutions = {}\n",
        "            for sub_t1, sub_t2 in zip(t1, t2):\n",
        "                sub_subs = self.unify(sub_t1, sub_t2)\n",
        "                if sub_subs is False:\n",
        "                    return False\n",
        "                self.compose(substitutions, sub_subs)\n",
        "            return substitutions\n",
        "\n",
        "        return False\n",
        "\n",
        "    def compose(self, s1, s2):\n",
        "        for var, value in s2.items():\n",
        "            if var in s1:\n",
        "                s1[var] = self.apply(s1, value)\n",
        "            else:\n",
        "                s1[var] = value\n",
        "\n",
        "    def apply(self, subs, term):\n",
        "        if isinstance(term, str) and term in subs:\n",
        "            return self.apply(subs, subs[term])\n",
        "        elif isinstance(term, list):\n",
        "            return [self.apply(subs, t) for t in term]\n",
        "        else:\n",
        "            return term\n",
        "\n",
        "\n",
        "if __name__ == \"__main__\":\n",
        "    unifier = Unifier()\n",
        "\n",
        "    term1 = ['f', 'X', ['g', 'Y']]\n",
        "    term2 = ['f', 'a', ['g', 'b']]\n",
        "\n",
        "    substitutions = unifier.unify(term1, term2)\n",
        "\n",
        "    if substitutions:\n",
        "        print(\"Terms can be unified with substitutions:\")\n",
        "        for var, value in substitutions.items():\n",
        "            print(f\"{var} = {value}\")\n",
        "    else:\n",
        "        print(\"Terms cannot be unified.\")"
      ]
    }
  ]
}